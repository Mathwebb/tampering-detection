{
  "cells": [
    {
      "cell_type": "code",
      "execution_count": 1,
      "metadata": {
        "id": "c42Qp8svmyOk"
      },
      "outputs": [],
      "source": [
        "import tensorflow as tf\n",
        "import numpy as np\n",
        "import os\n",
        "import itertools\n",
        "import matplotlib.pyplot as plt\n",
        "import json\n",
        "import seaborn as sns\n",
        "from datetime import datetime\n",
        "from tensorflow import keras\n",
        "\n",
        "%matplotlib inline\n",
        "from sklearn.model_selection import train_test_split\n",
        "from sklearn.metrics import confusion_matrix, classification_report\n",
        "from keras.models import Sequential, load_model\n",
        "from keras.layers import Dense, Flatten, Conv2D, MaxPool2D, Dropout, Activation, GlobalAveragePooling2D\n",
        "from keras.callbacks import EarlyStopping\n",
        "from PIL import Image, ImageChops, ImageEnhance\n",
        "from tqdm.notebook import tqdm\n",
        "from keras.preprocessing.image import ImageDataGenerator\n"
      ]
    },
    {
      "cell_type": "code",
      "execution_count": 2,
      "metadata": {
        "_cell_guid": "79c7e3d0-c299-4dcb-8224-4455121ee9b0",
        "_uuid": "d629ff2d2480ee46fbb7e2d37f6b5fab8052498a",
        "id": "TZ_vNQ6qmyOn"
      },
      "outputs": [],
      "source": [
        "def convert_to_ela_image(path,quality):\n",
        "\n",
        "    original_image = Image.open(path).convert('RGB')\n",
        "\n",
        "    resaved_file_name = 'resaved_image.jpg'    \n",
        "    original_image.save(resaved_file_name,'JPEG',quality=quality)\n",
        "    resaved_image = Image.open(resaved_file_name)\n",
        "\n",
        "    ela_image = ImageChops.difference(original_image,resaved_image)\n",
        "    \n",
        "    extrema = ela_image.getextrema()\n",
        "    max_difference = max([pix[1] for pix in extrema])\n",
        "    if max_difference ==0:\n",
        "        max_difference = 1\n",
        "    scale = 255 / max_difference\n",
        "    \n",
        "    ela_image = ImageEnhance.Brightness(ela_image).enhance(scale)\n",
        "\n",
        "    return ela_image"
      ]
    },
    {
      "cell_type": "code",
      "execution_count": 3,
      "metadata": {
        "id": "Xwq3AWGUmyOp"
      },
      "outputs": [],
      "source": [
        "def prepare_image(image_path):\n",
        "    image_size = (128, 128)\n",
        "    return np.array(convert_to_ela_image(image_path, 90).resize(image_size)).flatten() / 255.0        "
      ]
    },
    {
      "cell_type": "code",
      "execution_count": 14,
      "metadata": {
        "id": "_PXFRoqrmyOq"
      },
      "outputs": [],
      "source": [
        "X = []\n",
        "Y = []"
      ]
    },
    {
      "cell_type": "code",
      "execution_count": 15,
      "metadata": {
        "colab": {
          "referenced_widgets": [
            "ae8c039ece4d4b7092edf043daad1423"
          ]
        },
        "id": "9RhuMyVjmyOr",
        "outputId": "52dcece4-147a-431c-cabd-7ac841dd660e"
      },
      "outputs": [
        {
          "data": {
            "application/vnd.jupyter.widget-view+json": {
              "model_id": "a4dbfb7ad4654bb1b41c13ee388749fa",
              "version_major": 2,
              "version_minor": 0
            },
            "text/plain": [
              "Processing Images :   0%|          | 0/7492 [00:00<?, ?it/s]"
            ]
          },
          "metadata": {},
          "output_type": "display_data"
        },
        {
          "name": "stdout",
          "output_type": "stream",
          "text": [
            "Total images: 7354\n",
            "Total labels: 7354\n"
          ]
        }
      ],
      "source": [
        "\n",
        "path = os.path.join('D:', 'data_sets', 'general_image_tampering', 'CASIA', 'CASIA2', 'authentic')\n",
        "for filename in tqdm(os.listdir(path),desc=\"Processing Images : \"):\n",
        "    if filename.endswith('jpg') or filename.endswith('png') or filename.endswith('jpeg'):\n",
        "        try:\n",
        "            full_path = os.path.join(path, filename)\n",
        "            X.append(prepare_image(full_path))        \n",
        "            Y.append(1)     \n",
        "        except:\n",
        "            pass\n",
        "\n",
        "print(f'Total images: {len(X)}\\nTotal labels: {len(Y)}')"
      ]
    },
    {
      "cell_type": "code",
      "execution_count": 16,
      "metadata": {
        "colab": {
          "referenced_widgets": [
            "315fdae9fdd5436dbc0d9f59bfe44fa2"
          ]
        },
        "id": "X9IXi2MbmyOv",
        "outputId": "9a7dbeee-a966-4350-9b5e-956994641b7e"
      },
      "outputs": [
        {
          "data": {
            "application/vnd.jupyter.widget-view+json": {
              "model_id": "d496d331ce0c478091c9abe24e8728ec",
              "version_major": 2,
              "version_minor": 0
            },
            "text/plain": [
              "Processing Images :   0%|          | 0/5123 [00:00<?, ?it/s]"
            ]
          },
          "metadata": {},
          "output_type": "display_data"
        },
        {
          "name": "stdout",
          "output_type": "stream",
          "text": [
            "Total images: 12477\n",
            "Total labels: 12477\n"
          ]
        }
      ],
      "source": [
        "\n",
        "path = os.path.join('D:', 'data_sets', 'general_image_tampering', 'CASIA', 'CASIA2', 'tampered')\n",
        "i=0\n",
        "for filename in tqdm(os.listdir(path),desc=\"Processing Images : \"):\n",
        "        if filename.endswith('jpg') or filename.endswith('png') or filename.endswith('jpeg') or filename.endswith('tif'):\n",
        "            i+=1\n",
        "            try:\n",
        "                full_path = os.path.join(path, filename)\n",
        "                X.append(prepare_image(full_path))        \n",
        "                Y.append(0)    \n",
        "            except:\n",
        "                pass\n",
        "\n",
        "# Só foram pegas 2064 imagens de um total de 5123\n",
        "print(f'Total images: {len(X)}\\nTotal labels: {len(Y)}')"
      ]
    },
    {
      "cell_type": "code",
      "execution_count": 17,
      "metadata": {
        "id": "M-fMRTjcmyOy"
      },
      "outputs": [],
      "source": [
        "from sklearn.utils import shuffle\n",
        "\n"
      ]
    },
    {
      "cell_type": "code",
      "execution_count": 18,
      "metadata": {
        "id": "1LSshaZ-myOz"
      },
      "outputs": [],
      "source": [
        "X = np.array(X)\n",
        "Y = np.array(Y)\n",
        "X,Y= shuffle(X,Y)\n",
        "\n",
        "X = X.reshape(-1, 128, 128, 3)\n",
        "\n",
        "\n",
        "# proposed_fidac_500\n",
        "# casia_1\n",
        "# casia_2\n",
        "np.save(os.path.join('training_data', 'casia_2_x.npy'), X, allow_pickle=True)\n",
        "np.save(os.path.join('training_data', 'casia_2_y.npy'), Y, allow_pickle=True)\n"
      ]
    },
    {
      "cell_type": "code",
      "execution_count": 2,
      "metadata": {
        "id": "KG7QWFHUmyO1",
        "outputId": "4e1a5789-97a0-4de1-f0fe-342222c85ac6"
      },
      "outputs": [
        {
          "name": "stdout",
          "output_type": "stream",
          "text": [
            "(12477, 128, 128, 3) (12477,)\n"
          ]
        }
      ],
      "source": [
        "X = np.load(os.path.join('training_data', 'casia_2_x.npy'), allow_pickle=True)\n",
        "Y = np.load(os.path.join('training_data', 'casia_2_y.npy'), allow_pickle=True)\n",
        "\n",
        "print(np.shape(X),np.shape(Y))"
      ]
    },
    {
      "cell_type": "code",
      "execution_count": 3,
      "metadata": {
        "id": "bHWXf3IEmyO2",
        "outputId": "fe0095ca-948e-4eda-e912-b6ce887c746e"
      },
      "outputs": [
        {
          "name": "stdout",
          "output_type": "stream",
          "text": [
            "Training images: 9482 , Training labels: 9482\n",
            "Validation images: 2371 , Validation labels: 2371\n",
            "Test images: 624 , Test labels: 624\n"
          ]
        }
      ],
      "source": [
        "X_temp, X_test, Y_temp, Y_test = train_test_split(X, Y, test_size = 0.05, random_state=5)\n",
        "X_train, X_val, Y_train, Y_val = train_test_split(X_temp, Y_temp, test_size = 0.2, random_state=5)\n",
        "X = X.reshape(-1,1,1,1)\n",
        "\n",
        "print(f'Training images: {len(X_train)} , Training labels: {len(Y_train)}')\n",
        "print(f'Validation images: {len(X_val)} , Validation labels: {len(Y_val)}')\n",
        "print(f'Test images: {len(X_test)} , Test labels: {len(Y_test)}')"
      ]
    },
    {
      "cell_type": "code",
      "execution_count": 4,
      "metadata": {
        "id": "p5e9o9HQmyO3",
        "outputId": "61b0f6c4-ad21-48ac-db4a-9676f6deface"
      },
      "outputs": [
        {
          "name": "stdout",
          "output_type": "stream",
          "text": [
            "[0 1 1 1 0 1 1 1 0 0 1 1 1 1 1 1 1 1 1 0 0 1 1 0 1 0 0 0 0 0 1 1 1 0 1 1 1\n",
            " 0 1 0 1 0 0 0 0 1 1 0 1 0 0 1 1 1 1 1 0 1 0 1 1 1 1 1 1 0 0 1 1 0 1 1 0 1\n",
            " 0 1 0 1 1 0 1 1 1 1 1 1 0 1 0 1 1 0 0 0 1 1 1 1 1 0 1 1 0 1 1 1 1 0 1 1 1\n",
            " 0 1 0 1 1 1 1 1 0 1 1 1 1 1 1 1 0 0 1 1 1 1 1 0 1 1 1 0 1 0 0 1 0 1 0 1 1\n",
            " 1 1 0 0 0 1 1 0 0 1 1 1 0 0 1 0 0 0 0 1 0 0 0 0 0 1 0 1 1 1 1 0 1 0 1 0 0\n",
            " 1 1 0 1 1 0 1 1 1 1 1 0 1 1 0 1 1 0 1 1 0 0 1 1 0 1 1 1 0 0 0 1 0 1 0 1 0\n",
            " 1 0 1 0 0 1 1 0 1 1 1 1 1 0 0 0 1 0 1 1 1 0 1 1 0 1 0 1 1 1 1 1 1 0 1 1 1\n",
            " 0 1 0 1 1 0 1 1 0 0 0 0 0 1 1 1 1 1 1 1 1 0 1 1 0 1 0 0 1 1 1 0 1 0 0 1 0\n",
            " 0 1 0 1 0 0 1 0 1 1 0 1 0 1 0 1 0 0 0 1 0 1 1 0 0 1 0 0 1 1 1 0 0 1 0 1 1\n",
            " 1 1 1 0 1 1 0 1 1 1 1 0 1 1 1 1 0 0 0 0 0 0 1 0 0 1 1 0 0 1 0 0 0 1 1 1 1\n",
            " 1 0 0 1 1 1 0 0 1 0 0 1 0 1 0 1 0 0 0 0 1 0 0 0 0 0 1 1 1 1 1 0 1 1 1 0 0\n",
            " 0 0 0 1 0 0 1 1 1 1 0 1 1 0 1 1 1 0 0 1 0 1 1 1 1 1 1 1 1 1 0 0 1 1 1 1 1\n",
            " 0 0 1 1 1 1 1 0 0 1 1 0 1 0 1 0 1 1 1 0 0 0 1 1 0 1 1 1 1 1 1 1 1 1 0 1 1\n",
            " 0 1 1 1 0 1 0 0 1 1 1 1 0 0 0 0 1 0 1 1 1 0 0 1 1 1 0 1 1 1 0 1 1 1 1 1 0\n",
            " 0 1 1 1 1 1 0 0 1 0 0 1 1 1 1 0 0 0 1 0 0 1 1 0 0 0 0 0 0 0 0 0 0 1 0 0 1\n",
            " 0 1 1 1 1 1 0 0 1 1 1 0 1 1 0 1 0 1 0 0 1 0 1 0 0 0 1 0 0 1 1 0 1 1 0 1 1\n",
            " 0 0 0 1 1 1 1 1 0 1 0 1 0 0 1 1 1 0 1 1 0 1 0 1 1 0 1 1 1 1 0 0]\n"
          ]
        }
      ],
      "source": [
        "print(Y_test)"
      ]
    },
    {
      "cell_type": "code",
      "execution_count": 5,
      "metadata": {
        "id": "npihJQpTmyO4"
      },
      "outputs": [],
      "source": [
        "train_gen = ImageDataGenerator(\n",
        "    featurewise_center=False,\n",
        "    samplewise_center=False,\n",
        "    featurewise_std_normalization=False,\n",
        "    samplewise_std_normalization=False,\n",
        "    #zca_whitening=False,\n",
        "    rotation_range=30,\n",
        "    width_shift_range=0.1,\n",
        "    height_shift_range=0.1,\n",
        "    zoom_range=0.2,\n",
        "    horizontal_flip=True,\n",
        "    vertical_flip=False,\n",
        ")\n",
        "test_gen =  ImageDataGenerator()\n",
        "\n",
        "train_gen.fit(X_train)\n",
        "test_gen.fit(X_val)\n",
        "\n",
        "augmented_data = []\n"
      ]
    },
    {
      "cell_type": "code",
      "execution_count": 6,
      "metadata": {
        "id": "ObGHRW7DmyO5"
      },
      "outputs": [],
      "source": [
        "def build_model():\n",
        "    model = Sequential()\n",
        "    model.add(Conv2D(32, (5,5), activation = 'relu', input_shape = (128, 128, 3)))\n",
        "    model.add(MaxPool2D(2, 2))\n",
        "    model.add(Conv2D(64, (3,3), activation = 'relu'))\n",
        "    model.add(MaxPool2D(2, 2))\n",
        "    model.add(Conv2D(128, (3,3), activation = 'relu'))\n",
        "    model.add(Conv2D(128, (3,3), activation = 'relu'))\n",
        "    model.add(MaxPool2D(2, 2))\n",
        "    model.add(Conv2D(256, (3,3), activation = 'relu'))\n",
        "    model.add(Conv2D(256, (3,3), activation = 'relu', padding = \"SAME\"))\n",
        "    model.add(Flatten())\n",
        "    model.add(Dense(64, activation = 'relu'))\n",
        "    model.add(Dropout(0.4))\n",
        "    model.add(Dense(128, activation = 'relu'))\n",
        "    model.add(Dropout(0.4))\n",
        "    model.add(Dense(1, activation = 'sigmoid'))\n",
        "    return model\n",
        "\n",
        "# def build_model():\n",
        "#     model = Sequential()\n",
        "#     model.add(tf.keras.applications.ResNet101(input_shape=(128, 128, 3), include_top=False, weights='imagenet'))\n",
        "#     model.add(Flatten())\n",
        "#     model.add(Dense(1, activation = 'sigmoid'))\n",
        "#     return model"
      ]
    },
    {
      "cell_type": "code",
      "execution_count": 7,
      "metadata": {
        "id": "eWuKkUVNmyO6",
        "outputId": "dc63e86b-16f8-432a-f818-cee9ba218773"
      },
      "outputs": [
        {
          "name": "stdout",
          "output_type": "stream",
          "text": [
            "Model: \"sequential\"\n",
            "_________________________________________________________________\n",
            " Layer (type)                Output Shape              Param #   \n",
            "=================================================================\n",
            " conv2d (Conv2D)             (None, 124, 124, 32)      2432      \n",
            "                                                                 \n",
            " max_pooling2d (MaxPooling2  (None, 62, 62, 32)        0         \n",
            " D)                                                              \n",
            "                                                                 \n",
            " conv2d_1 (Conv2D)           (None, 60, 60, 64)        18496     \n",
            "                                                                 \n",
            " max_pooling2d_1 (MaxPoolin  (None, 30, 30, 64)        0         \n",
            " g2D)                                                            \n",
            "                                                                 \n",
            " conv2d_2 (Conv2D)           (None, 28, 28, 128)       73856     \n",
            "                                                                 \n",
            " conv2d_3 (Conv2D)           (None, 26, 26, 128)       147584    \n",
            "                                                                 \n",
            " max_pooling2d_2 (MaxPoolin  (None, 13, 13, 128)       0         \n",
            " g2D)                                                            \n",
            "                                                                 \n",
            " conv2d_4 (Conv2D)           (None, 11, 11, 256)       295168    \n",
            "                                                                 \n",
            " conv2d_5 (Conv2D)           (None, 11, 11, 256)       590080    \n",
            "                                                                 \n",
            " flatten (Flatten)           (None, 30976)             0         \n",
            "                                                                 \n",
            " dense (Dense)               (None, 64)                1982528   \n",
            "                                                                 \n",
            " dropout (Dropout)           (None, 64)                0         \n",
            "                                                                 \n",
            " dense_1 (Dense)             (None, 128)               8320      \n",
            "                                                                 \n",
            " dropout_1 (Dropout)         (None, 128)               0         \n",
            "                                                                 \n",
            " dense_2 (Dense)             (None, 1)                 129       \n",
            "                                                                 \n",
            "=================================================================\n",
            "Total params: 3118593 (11.90 MB)\n",
            "Trainable params: 3118593 (11.90 MB)\n",
            "Non-trainable params: 0 (0.00 Byte)\n",
            "_________________________________________________________________\n"
          ]
        }
      ],
      "source": [
        "model = build_model()\n",
        "model.summary()"
      ]
    },
    {
      "cell_type": "code",
      "execution_count": 8,
      "metadata": {
        "id": "8qUtiFXumyO8"
      },
      "outputs": [],
      "source": [
        "epochs = 40\n",
        "batch_size = 24\n",
        "init_lr = 1e-4  \n",
        "optimizer = tf.keras.optimizers.legacy.Adam(learning_rate = init_lr, decay = init_lr/epochs) \n",
        "model.compile(\n",
        "    optimizer = optimizer,\n",
        "    loss = 'binary_crossentropy',\n",
        "    metrics = [tf.keras.metrics.Accuracy(), tf.keras.metrics.Precision(), tf.keras.metrics.Recall()]\n",
        "    )"
      ]
    },
    {
      "cell_type": "code",
      "execution_count": 9,
      "metadata": {
        "id": "BHapgJeZmyO9"
      },
      "outputs": [],
      "source": [
        "early_stopping = EarlyStopping(monitor = 'val_accuracy',\n",
        "                               min_delta = 0,\n",
        "                               patience = 10,\n",
        "                               verbose = 0,\n",
        "                               mode = 'auto')"
      ]
    },
    {
      "cell_type": "code",
      "execution_count": 10,
      "metadata": {
        "id": "x1r0aG35myO9",
        "outputId": "54a5e761-6f78-4d55-aeda-b2e08be7f6ec",
        "scrolled": false
      },
      "outputs": [
        {
          "name": "stdout",
          "output_type": "stream",
          "text": [
            "Epoch 1/40\n",
            "500/500 [==============================] - ETA: 0s - loss: 0.4403 - accuracy: 0.0023 - precision: 0.8056 - recall: 0.8391"
          ]
        }
      ],
      "source": [
        "hist = model.fit(train_gen.flow(X_train, Y_train, batch_size=19),\n",
        "                 batch_size = batch_size,\n",
        "                 epochs = epochs,\n",
        "                 #steps_per_epoch = 14,\n",
        "                 validation_data = train_gen.flow(X_train, Y_train, batch_size=19),\n",
        "                 callbacks = [early_stopping])"
      ]
    },
    {
      "cell_type": "code",
      "execution_count": 43,
      "metadata": {
        "id": "EblDL34BmyO_"
      },
      "outputs": [
        {
          "name": "stderr",
          "output_type": "stream",
          "text": [
            "c:\\Repositories\\projects\\my-projects\\tensor-flow-test\\venv\\lib\\site-packages\\keras\\src\\engine\\training.py:3000: UserWarning: You are saving your model as an HDF5 file via `model.save()`. This file format is considered legacy. We recommend using instead the native Keras format, e.g. `model.save('my_model.keras')`.\n",
            "  saving_api.save_model(\n"
          ]
        }
      ],
      "source": [
        "# timestamp = datetime.now().strftime('%Y-%m-%d_%H-%M-%S')\n",
        "# path = f'models/IFAKE_ELA_VGG16_CASIA_1{timestamp}'\n",
        "# model.save(os.path.join(path, 'model.h5')) \n",
        "\n",
        "# history_dict = hist.history\n",
        "# json.dump(history_dict, open(os.path.join(path, 'model_history.json'), 'w'))"
      ]
    },
    {
      "cell_type": "code",
      "execution_count": 5,
      "metadata": {},
      "outputs": [],
      "source": [
        "# timestamp = datetime.now().strftime('%Y-%m-%d_%H-%M-%S')\n",
        "# path = f'models/IFAKE_ELA_VGG16_CASIA_1{timestamp}'\n",
        "path = f'models/IFAKE_ELA_PROPOSED_CASIA_1'\n",
        "model = load_model(os.path.join(path, 'model.h5'))\n",
        "history_dict = json.load(open(os.path.join(path, 'model_history.json'), 'r'))"
      ]
    },
    {
      "cell_type": "code",
      "execution_count": 6,
      "metadata": {
        "id": "UNyIzyU7myO_",
        "outputId": "0a87fe8e-fa1f-41b2-93e9-2759340b15dd"
      },
      "outputs": [
        {
          "data": {
            "text/plain": [
              "Text(0.5, 0.98, 'Metrics')"
            ]
          },
          "execution_count": 6,
          "metadata": {},
          "output_type": "execute_result"
        },
        {
          "data": {
            "image/png": "[encoded data removed]",
            "text/plain": [
              "<Figure size 1500x500 with 2 Axes>"
            ]
          },
          "metadata": {},
          "output_type": "display_data"
        }
      ],
      "source": [
        "fig, ax = plt.subplots(1,2,figsize=(15,5))\n",
        "\n",
        "ax[0].plot(history_dict['loss'], color='b', label = \"Training loss\")\n",
        "ax[0].plot(history_dict['val_loss'], color='r', label = \"Validation loss\")\n",
        "ax[0].set_xlabel('Epochs',fontsize=16)\n",
        "ax[0].set_ylabel('Loss',fontsize=16)\n",
        "legend = ax[0].legend(loc='best', shadow=True)\n",
        "\n",
        "ax[1].plot(history_dict['accuracy'], color='b', label = \"Training accuracy\")\n",
        "ax[1].plot(history_dict['val_accuracy'], color='r',label = \"Validation accuracy\")\n",
        "ax[1].set_xlabel('Epochs',fontsize=16)\n",
        "ax[1].set_ylabel('Accuracy',fontsize=16)\n",
        "legend = ax[1].legend(loc='best', shadow=True)\n",
        "\n",
        "fig.suptitle('Metrics',fontsize=20)"
      ]
    },
    {
      "cell_type": "code",
      "execution_count": 7,
      "metadata": {
        "id": "ayz0Xv5jmyPA"
      },
      "outputs": [],
      "source": [
        "def plot_confusion_matrix(cf_matrix):\n",
        "  \n",
        "    group_counts = [\"{0:0.0f}\".format(value) for value in cf_matrix.flatten()]\n",
        "    print(group_counts)\n",
        "    group_percentages = [\"{0:.2%}\".format(value) for value in cf_matrix.flatten()/np.sum(cf_matrix)]\n",
        "    print(group_percentages)\n",
        "\n",
        "    axes_labels=['Forged', 'Authentic']\n",
        "    labels = [f\"{v1}\\n{v2}\" for v1, v2 in zip(group_counts,group_percentages)]\n",
        "    labels = np.asarray(labels).reshape(2,2)\n",
        "    sns.heatmap(cf_matrix, annot=labels, fmt='',cmap=\"flare\" , xticklabels=axes_labels, yticklabels=axes_labels)\n",
        "\n",
        "    plt.xlabel('Predicted labels', fontsize = 13)\n",
        "    plt.ylabel('True labels', fontsize = 13)\n",
        "    plt.title('Confusion Matrix', fontsize= 10,fontweight='bold')\n",
        "\n",
        "    plt.show()"
      ]
    },
    {
      "cell_type": "code",
      "execution_count": 8,
      "metadata": {
        "id": "PhnimHtlmyPB",
        "outputId": "212ed265-3152-4229-d7a9-1ba9af191ab6",
        "scrolled": false
      },
      "outputs": [
        {
          "name": "stdout",
          "output_type": "stream",
          "text": [
            "11/11 [==============================] - 2s 109ms/step\n",
            "['149', '34', '54', '88']\n",
            "['45.85%', '10.46%', '16.62%', '27.08%']\n"
          ]
        },
        {
          "data": {
            "image/png": "[encoded data removed]",
            "text/plain": [
              "<Figure size 640x480 with 2 Axes>"
            ]
          },
          "metadata": {},
          "output_type": "display_data"
        }
      ],
      "source": [
        "Y_pred = model.predict(X_val)\n",
        "Y_pred_classes = np.round(Y_pred)\n",
        "Y_true = Y_val\n",
        "\n",
        "confusion_mtx = confusion_matrix(Y_true, Y_pred_classes)     \n",
        "plot_confusion_matrix(confusion_mtx)                         \n"
      ]
    },
    {
      "cell_type": "code",
      "execution_count": 9,
      "metadata": {
        "id": "GmPtiN3-myPC",
        "outputId": "32f6cca4-1dc9-4471-805a-a9c3d3a3fc00"
      },
      "outputs": [
        {
          "name": "stdout",
          "output_type": "stream",
          "text": [
            "              precision    recall  f1-score   support\n",
            "\n",
            "           0       0.73      0.81      0.77       183\n",
            "           1       0.72      0.62      0.67       142\n",
            "\n",
            "    accuracy                           0.73       325\n",
            "   macro avg       0.73      0.72      0.72       325\n",
            "weighted avg       0.73      0.73      0.73       325\n",
            "\n"
          ]
        }
      ],
      "source": [
        "print(classification_report(Y_true, Y_pred_classes))"
      ]
    },
    {
      "cell_type": "code",
      "execution_count": 10,
      "metadata": {
        "id": "PLK2Jbw2myPD"
      },
      "outputs": [],
      "source": [
        "class_names = ['Forged', 'Authentic']"
      ]
    },
    {
      "cell_type": "code",
      "execution_count": 11,
      "metadata": {
        "colab": {
          "referenced_widgets": [
            "0e301abd13fb4081987503508c4ca3e2"
          ]
        },
        "id": "XaezWi_XmyPE",
        "outputId": "8b232adf-cdc1-4ea6-a46f-10fd349125ac",
        "scrolled": true
      },
      "outputs": [
        {
          "data": {
            "application/vnd.jupyter.widget-view+json": {
              "model_id": "160cfa5fd43d4dbfb5981a008d0e1233",
              "version_major": 2,
              "version_minor": 0
            },
            "text/plain": [
              "Processing Images :   0%|          | 0/86 [00:00<?, ?it/s]"
            ]
          },
          "metadata": {},
          "output_type": "display_data"
        },
        {
          "name": "stdout",
          "output_type": "stream",
          "text": [
            "1/1 [==============================] - 0s 43ms/step\n",
            "1/1 [==============================] - 0s 36ms/step\n",
            "1/1 [==============================] - 0s 32ms/step\n",
            "1/1 [==============================] - 0s 26ms/step\n",
            "1/1 [==============================] - 0s 28ms/step\n",
            "1/1 [==============================] - 0s 28ms/step\n",
            "1/1 [==============================] - 0s 26ms/step\n",
            "1/1 [==============================] - 0s 28ms/step\n",
            "1/1 [==============================] - 0s 31ms/step\n",
            "1/1 [==============================] - 0s 30ms/step\n",
            "1/1 [==============================] - 0s 26ms/step\n",
            "1/1 [==============================] - 0s 33ms/step\n",
            "1/1 [==============================] - 0s 33ms/step\n",
            "1/1 [==============================] - 0s 32ms/step\n",
            "1/1 [==============================] - 0s 34ms/step\n",
            "1/1 [==============================] - 0s 36ms/step\n",
            "1/1 [==============================] - 0s 28ms/step\n",
            "1/1 [==============================] - 0s 27ms/step\n",
            "1/1 [==============================] - 0s 28ms/step\n",
            "1/1 [==============================] - 0s 27ms/step\n",
            "1/1 [==============================] - 0s 28ms/step\n",
            "1/1 [==============================] - 0s 30ms/step\n",
            "1/1 [==============================] - 0s 28ms/step\n",
            "1/1 [==============================] - 0s 26ms/step\n",
            "1/1 [==============================] - 0s 28ms/step\n",
            "1/1 [==============================] - 0s 28ms/step\n",
            "1/1 [==============================] - 0s 30ms/step\n",
            "1/1 [==============================] - 0s 26ms/step\n",
            "1/1 [==============================] - 0s 28ms/step\n",
            "1/1 [==============================] - 0s 27ms/step\n",
            "1/1 [==============================] - 0s 31ms/step\n",
            "1/1 [==============================] - 0s 29ms/step\n",
            "1/1 [==============================] - 0s 27ms/step\n",
            "1/1 [==============================] - 0s 25ms/step\n",
            "1/1 [==============================] - 0s 28ms/step\n",
            "1/1 [==============================] - 0s 34ms/step\n",
            "1/1 [==============================] - 0s 29ms/step\n",
            "1/1 [==============================] - 0s 25ms/step\n",
            "1/1 [==============================] - 0s 26ms/step\n",
            "1/1 [==============================] - 0s 27ms/step\n",
            "1/1 [==============================] - 0s 26ms/step\n",
            "1/1 [==============================] - 0s 25ms/step\n",
            "1/1 [==============================] - 0s 29ms/step\n",
            "1/1 [==============================] - 0s 26ms/step\n",
            "1/1 [==============================] - 0s 28ms/step\n",
            "1/1 [==============================] - 0s 31ms/step\n",
            "1/1 [==============================] - 0s 26ms/step\n",
            "1/1 [==============================] - 0s 28ms/step\n",
            "1/1 [==============================] - 0s 41ms/step\n",
            "1/1 [==============================] - 0s 27ms/step\n",
            "1/1 [==============================] - 0s 27ms/step\n",
            "1/1 [==============================] - 0s 28ms/step\n",
            "1/1 [==============================] - 0s 26ms/step\n",
            "1/1 [==============================] - 0s 26ms/step\n",
            "1/1 [==============================] - 0s 27ms/step\n",
            "1/1 [==============================] - 0s 26ms/step\n",
            "1/1 [==============================] - 0s 28ms/step\n",
            "1/1 [==============================] - 0s 26ms/step\n",
            "1/1 [==============================] - 0s 27ms/step\n",
            "1/1 [==============================] - 0s 28ms/step\n",
            "1/1 [==============================] - 0s 27ms/step\n",
            "1/1 [==============================] - 0s 27ms/step\n",
            "1/1 [==============================] - 0s 28ms/step\n",
            "1/1 [==============================] - 0s 26ms/step\n",
            "1/1 [==============================] - 0s 26ms/step\n",
            "1/1 [==============================] - 0s 27ms/step\n",
            "1/1 [==============================] - 0s 28ms/step\n",
            "1/1 [==============================] - 0s 26ms/step\n",
            "1/1 [==============================] - 0s 28ms/step\n",
            "1/1 [==============================] - 0s 26ms/step\n",
            "1/1 [==============================] - 0s 28ms/step\n",
            "1/1 [==============================] - 0s 25ms/step\n",
            "1/1 [==============================] - 0s 26ms/step\n",
            "1/1 [==============================] - 0s 24ms/step\n",
            "1/1 [==============================] - 0s 29ms/step\n",
            "1/1 [==============================] - 0s 26ms/step\n",
            "1/1 [==============================] - 0s 28ms/step\n",
            "1/1 [==============================] - 0s 28ms/step\n",
            "1/1 [==============================] - 0s 27ms/step\n",
            "1/1 [==============================] - 0s 25ms/step\n",
            "1/1 [==============================] - 0s 27ms/step\n",
            "1/1 [==============================] - 0s 26ms/step\n",
            "1/1 [==============================] - 0s 28ms/step\n",
            "1/1 [==============================] - 0s 27ms/step\n",
            "1/1 [==============================] - 0s 26ms/step\n",
            "1/1 [==============================] - 0s 41ms/step\n",
            "Total test images: 86\n",
            "Correctly predicted images: 66\n",
            "Accuracy: 76.74418604651163 %\n",
            "\n"
          ]
        }
      ],
      "source": [
        "correct_test = 0\n",
        "total_test = 0  \n",
        "pred = []\n",
        "for index,image in enumerate(tqdm(X_test,desc=\"Processing Images : \")):\n",
        "    image = image.reshape(-1, 128, 128, 3)\n",
        "    y_pred = model.predict(image)\n",
        "    pred.append(y_pred)\n",
        "    y_pred_class = np.round(y_pred)\n",
        "    total_test += 1\n",
        "    if y_pred_class == Y_test[index]: \n",
        "        correct_test += 1\n",
        "    \n",
        "print(f'Total test images: {total_test}\\nCorrectly predicted images: {correct_test}\\nAccuracy: {correct_test / total_test * 100.0} %\\n')"
      ]
    },
    {
      "cell_type": "code",
      "execution_count": 21,
      "metadata": {
        "id": "V9vtdH38myPE"
      },
      "outputs": [],
      "source": [
        "from PIL import ImageFile\n",
        "\n",
        "ImageFile.LOAD_TRUNCATED_IMAGES = True"
      ]
    },
    {
      "cell_type": "code",
      "execution_count": 22,
      "metadata": {
        "id": "Lhe66TWYmyPF",
        "outputId": "aa85d390-ac36-4e42-a9c7-fdb8eaea1938"
      },
      "outputs": [
        {
          "ename": "FileNotFoundError",
          "evalue": "[WinError 3] O sistema não pode encontrar o caminho especificado: '../Datasets/TEST/Tp/'",
          "output_type": "error",
          "traceback": [
            "\u001b[1;31m---------------------------------------------------------------------------\u001b[0m",
            "\u001b[1;31mFileNotFoundError\u001b[0m                         Traceback (most recent call last)",
            "\u001b[1;32mc:\\Repositories\\projects\\my-projects\\tensor-flow-test\\ImageForgeryClassification.ipynb Célula 29\u001b[0m line \u001b[0;36m4\n\u001b[0;32m      <a href='vscode-notebook-cell:/c%3A/Repositories/projects/my-projects/tensor-flow-test/ImageForgeryClassification.ipynb#X40sZmlsZQ%3D%3D?line=1'>2</a>\u001b[0m correct \u001b[39m=\u001b[39m \u001b[39m0\u001b[39m\n\u001b[0;32m      <a href='vscode-notebook-cell:/c%3A/Repositories/projects/my-projects/tensor-flow-test/ImageForgeryClassification.ipynb#X40sZmlsZQ%3D%3D?line=2'>3</a>\u001b[0m total \u001b[39m=\u001b[39m \u001b[39m0\u001b[39m\n\u001b[1;32m----> <a href='vscode-notebook-cell:/c%3A/Repositories/projects/my-projects/tensor-flow-test/ImageForgeryClassification.ipynb#X40sZmlsZQ%3D%3D?line=3'>4</a>\u001b[0m \u001b[39mfor\u001b[39;00m file_name \u001b[39min\u001b[39;00m os\u001b[39m.\u001b[39;49mlistdir(fake_image):\n\u001b[0;32m      <a href='vscode-notebook-cell:/c%3A/Repositories/projects/my-projects/tensor-flow-test/ImageForgeryClassification.ipynb#X40sZmlsZQ%3D%3D?line=4'>5</a>\u001b[0m     \u001b[39mif\u001b[39;00m file_name\u001b[39m.\u001b[39mendswith(\u001b[39m'\u001b[39m\u001b[39mjpg\u001b[39m\u001b[39m'\u001b[39m) \u001b[39mor\u001b[39;00m file_name\u001b[39m.\u001b[39mendswith(\u001b[39m'\u001b[39m\u001b[39mpng\u001b[39m\u001b[39m'\u001b[39m):\n\u001b[0;32m      <a href='vscode-notebook-cell:/c%3A/Repositories/projects/my-projects/tensor-flow-test/ImageForgeryClassification.ipynb#X40sZmlsZQ%3D%3D?line=5'>6</a>\u001b[0m         test_image_path \u001b[39m=\u001b[39m os\u001b[39m.\u001b[39mpath\u001b[39m.\u001b[39mjoin(fake_image, file_name)\n",
            "\u001b[1;31mFileNotFoundError\u001b[0m: [WinError 3] O sistema não pode encontrar o caminho especificado: '../Datasets/TEST/Tp/'"
          ]
        }
      ],
      "source": [
        "fake_image = '../Datasets/TEST/Tp/'\n",
        "correct = 0\n",
        "total = 0\n",
        "for file_name in os.listdir(fake_image):\n",
        "    if file_name.endswith('jpg') or file_name.endswith('png'):\n",
        "        test_image_path = os.path.join(fake_image, file_name)\n",
        "        test_image = prepare_image(test_image_path)  \n",
        "        test_image=test_image.reshape(-1, 128, 128, 3)\n",
        "        y_pred = model.predict(test_image)\n",
        "        y_pred_class = round(y_pred[0][0])\n",
        "        total += 1\n",
        "        if y_pred_class == 0:\n",
        "            correct += 1\n",
        "            print(f'Class: {class_names[y_pred_class]} Confidence: {np.amax(y_pred) * 100:0.2f}')\n",
        "print(f'Total: {total}, Correct: {correct}, Acc: {correct / total * 100.0}')"
      ]
    },
    {
      "cell_type": "code",
      "execution_count": null,
      "metadata": {
        "id": "kN40dfe8myPF",
        "outputId": "e9d92e66-cd73-495d-82b3-8fd0eaa94366"
      },
      "outputs": [
        {
          "name": "stdout",
          "output_type": "stream",
          "text": [
            "Class: Authentic Confidence: 99.84\n",
            "Class: Authentic Confidence: 99.84\n",
            "Class: Authentic Confidence: 100.00\n",
            "Class: Authentic Confidence: 99.93\n",
            "Class: Authentic Confidence: 100.00\n",
            "Class: Authentic Confidence: 99.99\n",
            "Class: Authentic Confidence: 99.69\n",
            "Class: Authentic Confidence: 100.00\n",
            "Class: Authentic Confidence: 96.89\n",
            "Class: Authentic Confidence: 99.73\n",
            "Class: Authentic Confidence: 99.57\n",
            "Class: Authentic Confidence: 99.86\n",
            "Class: Authentic Confidence: 99.26\n",
            "Class: Authentic Confidence: 88.27\n",
            "Class: Authentic Confidence: 67.10\n",
            "Class: Authentic Confidence: 70.39\n",
            "Class: Authentic Confidence: 99.86\n",
            "Class: Authentic Confidence: 100.00\n",
            "Class: Authentic Confidence: 100.00\n",
            "Class: Authentic Confidence: 100.00\n",
            "Class: Authentic Confidence: 100.00\n",
            "Class: Authentic Confidence: 100.00\n",
            "Class: Authentic Confidence: 82.61\n",
            "Class: Authentic Confidence: 96.75\n",
            "Class: Authentic Confidence: 97.38\n",
            "Class: Authentic Confidence: 95.78\n",
            "Class: Authentic Confidence: 98.61\n",
            "Class: Authentic Confidence: 80.73\n",
            "Class: Authentic Confidence: 89.42\n",
            "Class: Authentic Confidence: 99.89\n",
            "Class: Authentic Confidence: 50.02\n",
            "Class: Authentic Confidence: 50.23\n",
            "Class: Authentic Confidence: 99.72\n",
            "Class: Authentic Confidence: 71.96\n",
            "Class: Authentic Confidence: 90.58\n",
            "Class: Authentic Confidence: 89.24\n",
            "Class: Authentic Confidence: 97.52\n",
            "Class: Authentic Confidence: 87.37\n",
            "Class: Authentic Confidence: 98.99\n",
            "Class: Authentic Confidence: 91.43\n",
            "Class: Authentic Confidence: 90.40\n",
            "Class: Authentic Confidence: 71.00\n",
            "Class: Authentic Confidence: 94.51\n",
            "Total: 49, Correct: 43, Acc: 87.75510204081633\n"
          ]
        }
      ],
      "source": [
        "real_image = '../Datasets/Test/Au/'\n",
        "correct_r = 0\n",
        "total_r = 0\n",
        "for file_name in os.listdir(real_image):\n",
        "    if file_name.endswith('jpg') or file_name.endswith('png'):\n",
        "        test_image_path = os.path.join(real_image, file_name)\n",
        "        test_image = prepare_image(test_image_path)  \n",
        "        test_image=test_image.reshape(-1, 128, 128, 3) \n",
        "        y_pred = model.predict(test_image)\n",
        "        y_pred_class = round(y_pred[0][0])\n",
        "        total_r += 1\n",
        "        if y_pred_class == 1:\n",
        "            correct_r += 1\n",
        "            print(f'Class: {class_names[y_pred_class]} Confidence: {np.amax(y_pred) * 100:0.2f}')\n",
        "print(f'Total: {total_r}, Correct: {correct_r}, Acc: {correct_r / total_r * 100.0}')"
      ]
    },
    {
      "cell_type": "code",
      "execution_count": null,
      "metadata": {
        "id": "tk2TyGgemyPG",
        "outputId": "077fb434-c236-4299-afc6-b3ad77d67dc1"
      },
      "outputs": [
        {
          "name": "stdout",
          "output_type": "stream",
          "text": [
            "Total: 99, Correct: 84, Acc: 84.84848484848484\n"
          ]
        }
      ],
      "source": [
        "correct += correct_r\n",
        "total += total_r\n",
        "#print(f'Total: {total_r}, Correct: {correct_r}, Acc: {correct_r / total_r * 100.0}')\n",
        "print(f'Total: {total}, Correct: {correct}, Acc: {correct / total * 100.0}')"
      ]
    },
    {
      "cell_type": "code",
      "execution_count": null,
      "metadata": {
        "id": "cvWhgwNOmyPH"
      },
      "outputs": [],
      "source": [
        "# test_image_path = '../casia2/test/1.JPG'    # test image path\n",
        "# test_image = prepare_image(test_image_path)\n",
        "# test_image = test_image.reshape(-1, 128, 128, 3)\n",
        "\n",
        "# y_pred = model.predict(test_image)\n",
        "# y_pred_class = int(round(y_pred[0][0]))\n",
        "\n",
        "# fig, ax = plt.subplots(1,2,figsize=(15,5)) \n",
        "\n",
        "# original_image = plt.imread(test_image_path) \n",
        "# ax[0].axis('off')\n",
        "# ax[0].imshow(original_image)\n",
        "# ax[0].set_title('Original Image')\n",
        "\n",
        "# ax[1].axis('off')\n",
        "# ax[1].imshow(convert_to_ela_image(test_image_path,90)) \n",
        "# ax[1].set_title('ELA Image')\n",
        "\n",
        "# print(f'Prediction: {class_names[y_pred_class]}')\n",
        "# if y_pred<=0.5:\n",
        "#     print(f'Confidence:  {(1-(y_pred[0][0])) * 100:0.2f}%')\n",
        "# else:\n",
        "#     print(f'Confidence: {(y_pred[0][0]) * 100:0.2f}%')\n",
        "# print('--------------------------------------------------------------------------------------------------------------')"
      ]
    },
    {
      "cell_type": "code",
      "execution_count": null,
      "metadata": {
        "colab": {
          "referenced_widgets": [
            "b4d272a4678c4e29981aab548981bde2"
          ]
        },
        "id": "GOjmQSJYmyPH",
        "outputId": "5033300e-ebe0-40d7-a713-f904b6140b0b"
      },
      "outputs": [
        {
          "data": {
            "application/vnd.jupyter.widget-view+json": {
              "model_id": "b4d272a4678c4e29981aab548981bde2",
              "version_major": 2,
              "version_minor": 0
            },
            "text/plain": [
              "Processing Images :   0%|          | 0/14 [00:00<?, ?it/s]"
            ]
          },
          "metadata": {},
          "output_type": "display_data"
        },
        {
          "name": "stdout",
          "output_type": "stream",
          "text": [
            "Total images: 14\n",
            "Authentic Images: 14\n",
            "Forged Images: 0\n"
          ]
        }
      ],
      "source": [
        "# test_folder_path = 'Datasets/FIDAC/Au/'        #dataset path\n",
        "# authentic,forged,total = 0,0,0\n",
        "\n",
        "# for filename in tqdm(os.listdir(test_folder_path),desc=\"Processing Images : \"):\n",
        "#     #print(filename)\n",
        "#     if filename.endswith('jpg') or filename.endswith('png') or filename.endswith('jpeg') or filename.endswith('JPG'):\n",
        "#         test_image_path = os.path.join(test_folder_path, filename)\n",
        "#         test_image = prepare_image(test_image_path)  \n",
        "#         test_image=test_image.reshape(-1, 128, 128, 3)\n",
        "#         #y_pred = model.predict(image)\n",
        "#         #y_pred_class = np.round(y_pred)\n",
        "        \n",
        "#         y_pred = model.predict(test_image)\n",
        "#         y_pred_class = round(y_pred[0][0])\n",
        "\n",
        "#         total += 1\n",
        "#         #print('---',y_pred_class)\n",
        "#         if y_pred_class == 0:\n",
        "#             forged += 1\n",
        "#         else:\n",
        "#             authentic +=1\n",
        "\n",
        "# print(f'Total images: {total}\\nAuthentic Images: {authentic}\\nForged Images: {forged}')"
      ]
    }
  ],
  "metadata": {
    "colab": {
      "provenance": []
    },
    "kernelspec": {
      "display_name": "Python 3",
      "language": "python",
      "name": "python3"
    },
    "language_info": {
      "codemirror_mode": {
        "name": "ipython",
        "version": 3
      },
      "file_extension": ".py",
      "mimetype": "text/x-python",
      "name": "python",
      "nbconvert_exporter": "python",
      "pygments_lexer": "ipython3",
      "version": "3.10.0"
    }
  },
  "nbformat": 4,
  "nbformat_minor": 0
}
